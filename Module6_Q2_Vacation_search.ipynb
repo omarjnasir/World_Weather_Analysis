{
 "cells": [
  {
   "cell_type": "markdown",
   "metadata": {},
   "source": [
    "## Deliverable 2. Create a Customer Travel Destinations Map."
   ]
  },
  {
   "cell_type": "code",
   "execution_count": 1,
   "metadata": {},
   "outputs": [],
   "source": [
    "# Dependencies and Setup\n",
    "import pandas as pd\n",
    "import requests\n",
    "import gmaps\n",
    "\n",
    "# Import API key\n",
    "from config import g_key\n",
    "\n",
    "# Configure gmaps API key\n",
    "gmaps.configure(api_key=g_key)"
   ]
  },
  {
   "cell_type": "code",
   "execution_count": 2,
   "metadata": {},
   "outputs": [
    {
     "data": {
      "text/html": [
       "<div>\n",
       "<style scoped>\n",
       "    .dataframe tbody tr th:only-of-type {\n",
       "        vertical-align: middle;\n",
       "    }\n",
       "\n",
       "    .dataframe tbody tr th {\n",
       "        vertical-align: top;\n",
       "    }\n",
       "\n",
       "    .dataframe thead th {\n",
       "        text-align: right;\n",
       "    }\n",
       "</style>\n",
       "<table border=\"1\" class=\"dataframe\">\n",
       "  <thead>\n",
       "    <tr style=\"text-align: right;\">\n",
       "      <th></th>\n",
       "      <th>City_ID</th>\n",
       "      <th>City</th>\n",
       "      <th>Country</th>\n",
       "      <th>Lat</th>\n",
       "      <th>Lng</th>\n",
       "      <th>Max Temp</th>\n",
       "      <th>Humidity</th>\n",
       "      <th>Cloudiness</th>\n",
       "      <th>Wind Speed</th>\n",
       "      <th>Current Description</th>\n",
       "    </tr>\n",
       "  </thead>\n",
       "  <tbody>\n",
       "    <tr>\n",
       "      <th>0</th>\n",
       "      <td>0</td>\n",
       "      <td>Shitkino</td>\n",
       "      <td>RU</td>\n",
       "      <td>56.3703</td>\n",
       "      <td>98.3543</td>\n",
       "      <td>3.81</td>\n",
       "      <td>93</td>\n",
       "      <td>68</td>\n",
       "      <td>5.55</td>\n",
       "      <td>broken clouds</td>\n",
       "    </tr>\n",
       "    <tr>\n",
       "      <th>1</th>\n",
       "      <td>1</td>\n",
       "      <td>Hobart</td>\n",
       "      <td>AU</td>\n",
       "      <td>-42.8794</td>\n",
       "      <td>147.3294</td>\n",
       "      <td>62.60</td>\n",
       "      <td>55</td>\n",
       "      <td>90</td>\n",
       "      <td>13.80</td>\n",
       "      <td>overcast clouds</td>\n",
       "    </tr>\n",
       "    <tr>\n",
       "      <th>2</th>\n",
       "      <td>2</td>\n",
       "      <td>Cape Town</td>\n",
       "      <td>ZA</td>\n",
       "      <td>-33.9258</td>\n",
       "      <td>18.4232</td>\n",
       "      <td>72.00</td>\n",
       "      <td>68</td>\n",
       "      <td>40</td>\n",
       "      <td>17.27</td>\n",
       "      <td>scattered clouds</td>\n",
       "    </tr>\n",
       "    <tr>\n",
       "      <th>3</th>\n",
       "      <td>3</td>\n",
       "      <td>Beihai</td>\n",
       "      <td>CN</td>\n",
       "      <td>21.4833</td>\n",
       "      <td>109.1000</td>\n",
       "      <td>72.30</td>\n",
       "      <td>83</td>\n",
       "      <td>15</td>\n",
       "      <td>11.50</td>\n",
       "      <td>few clouds</td>\n",
       "    </tr>\n",
       "    <tr>\n",
       "      <th>4</th>\n",
       "      <td>4</td>\n",
       "      <td>Mocuba</td>\n",
       "      <td>MZ</td>\n",
       "      <td>-16.8392</td>\n",
       "      <td>36.9856</td>\n",
       "      <td>74.01</td>\n",
       "      <td>96</td>\n",
       "      <td>63</td>\n",
       "      <td>3.29</td>\n",
       "      <td>broken clouds</td>\n",
       "    </tr>\n",
       "  </tbody>\n",
       "</table>\n",
       "</div>"
      ],
      "text/plain": [
       "   City_ID       City Country      Lat       Lng  Max Temp  Humidity  \\\n",
       "0        0   Shitkino      RU  56.3703   98.3543      3.81        93   \n",
       "1        1     Hobart      AU -42.8794  147.3294     62.60        55   \n",
       "2        2  Cape Town      ZA -33.9258   18.4232     72.00        68   \n",
       "3        3     Beihai      CN  21.4833  109.1000     72.30        83   \n",
       "4        4     Mocuba      MZ -16.8392   36.9856     74.01        96   \n",
       "\n",
       "   Cloudiness  Wind Speed Current Description  \n",
       "0          68        5.55       broken clouds  \n",
       "1          90       13.80     overcast clouds  \n",
       "2          40       17.27    scattered clouds  \n",
       "3          15       11.50          few clouds  \n",
       "4          63        3.29       broken clouds  "
      ]
     },
     "execution_count": 2,
     "metadata": {},
     "output_type": "execute_result"
    }
   ],
   "source": [
    "# 1. Import the WeatherPy_database.csv file. \n",
    "city_data_df = pd.read_csv(\"Weather_Database/WeatherPy_database.csv\")\n",
    "city_data_df.head()\n"
   ]
  },
  {
   "cell_type": "code",
   "execution_count": 3,
   "metadata": {},
   "outputs": [
    {
     "data": {
      "text/plain": [
       "687"
      ]
     },
     "execution_count": 3,
     "metadata": {},
     "output_type": "execute_result"
    }
   ],
   "source": [
    "city_data_df[\"City\"].count()"
   ]
  },
  {
   "cell_type": "code",
   "execution_count": 4,
   "metadata": {},
   "outputs": [
    {
     "data": {
      "application/vnd.jupyter.widget-view+json": {
       "model_id": "741f6bbb9a104b32a7daf5a08ad501e9",
       "version_major": 2,
       "version_minor": 0
      },
      "text/plain": [
       "Figure(layout=FigureLayout(height='420px'))"
      ]
     },
     "metadata": {},
     "output_type": "display_data"
    }
   ],
   "source": [
    "gmaps.configure(api_key=g_key)\n",
    "humidity = city_data_df['Humidity'].astype(float)\n",
    "locations = city_data_df[['Lat', 'Lng']]\n",
    "locations\n",
    "fig=gmaps.figure(center=(50.0, -35.0), zoom_level=2)\n",
    "heat_layer = gmaps.heatmap_layer(locations, weights=humidity,\n",
    "                                  dissipating=False, max_intensity=300,\n",
    "                                 point_radius=5)\n",
    "heat_layer\n",
    "fig.add_layer(heat_layer)\n",
    "fig"
   ]
  },
  {
   "cell_type": "code",
   "execution_count": null,
   "metadata": {},
   "outputs": [
    {
     "name": "stdout",
     "output_type": "stream",
     "text": [
      "What is the minimum temperature you would like for your trip?70\n"
     ]
    }
   ],
   "source": [
    "# 2. Prompt the user to enter minimum and maximum temperature criteria \n",
    "min_temp=float(input(\"What is the minimum temperature you would like for your trip?\"))\n",
    "max_temp=float(input(\"What is the maximum temperature you would like for your trip?\"))"
   ]
  },
  {
   "cell_type": "code",
   "execution_count": null,
   "metadata": {
    "scrolled": true
   },
   "outputs": [],
   "source": [
    "# 3. Filter the city_data_df DataFrame using the input statements to create a new DataFrame using the loc method.\n",
    "preferred_cities_df = city_data_df.loc[(city_data_df[\"Max Temp\"] <= max_temp) & (city_data_df[\"Max Temp\"] >= min_temp)]\n",
    "preferred_cities_df.head(5)"
   ]
  },
  {
   "cell_type": "code",
   "execution_count": null,
   "metadata": {},
   "outputs": [],
   "source": [
    "# 4a. Determine if there are any empty rows.\n",
    "preferred_cities_df.count()\n",
    "\n"
   ]
  },
  {
   "cell_type": "code",
   "execution_count": null,
   "metadata": {},
   "outputs": [],
   "source": [
    "# 4b. Drop any empty rows and create a new DataFrame that doesn’t have empty rows.\n",
    "clean_df = preferred_cities_df.dropna()\n",
    "clean_df.head()"
   ]
  },
  {
   "cell_type": "code",
   "execution_count": null,
   "metadata": {},
   "outputs": [],
   "source": [
    "clean_df.count()"
   ]
  },
  {
   "cell_type": "code",
   "execution_count": null,
   "metadata": {},
   "outputs": [],
   "source": [
    "# 5a. Create DataFrame called hotel_df to store hotel names along with city, country, max temp, and coordinates.\n",
    "hotel_df = clean_df[[\"City\", \"Country\", \"Max Temp\", \"Current Description\", \"Lat\", \"Lng\"]].copy()\n",
    "\n",
    "# 5b. Create a new column \"Hotel Name\"\n",
    "hotel_df[\"Hotel Name\"] = \"\"\n",
    "hotel_df.head(10)"
   ]
  },
  {
   "cell_type": "code",
   "execution_count": null,
   "metadata": {},
   "outputs": [],
   "source": []
  },
  {
   "cell_type": "code",
   "execution_count": null,
   "metadata": {},
   "outputs": [],
   "source": [
    "# 6a. Set parameters to search for hotels with 5000 meters.\n",
    "params = {\n",
    "    \"keyword\": \"hotel\",\n",
    "    \"radius\": 5000,\n",
    "    \"type\": \"lodging\",\n",
    "    \"key\": g_key\n",
    "}\n",
    "\n",
    "# 6b. Iterate through the hotel DataFrame.\n",
    "for index, row in hotel_df.iterrows():\n",
    "    # get lat, lng from df\n",
    "    lat = row[\"Lat\"]\n",
    "    lng = row[\"Lng\"]\n",
    "    # 6c. Get latitude and longitude from DataFrame.\n",
    "    params[\"location\"] = f\"{lat},{lng}\"\n",
    "    # 6d. Set up the base URL for the Google Directions API to get JSON data.\n",
    "    base_url = \"https://maps.googleapis.com/maps/api/place/nearbysearch/json\"\n",
    "    # 6e. Make request and retrieve the JSON data from the search.\n",
    "    hotels = requests.get(base_url, params=params).json()\n",
    "    print(hotels)\n",
    "    # 6f. Get the first hotel from the results and store the name, if a hotel isn't found skip the city.\n",
    "    try:\n",
    "        hotel_df.loc[index, \"Hotel Name\"] = hotels[\"results\"][0][\"name\"]\n",
    "    except (IndexError):\n",
    "        print(\"Hotel not found... skipping.\")"
   ]
  },
  {
   "cell_type": "code",
   "execution_count": null,
   "metadata": {},
   "outputs": [],
   "source": [
    "# 7. Drop the rows where there is no Hotel Name.\n",
    "clean_hotel_df = hotel_df[hotel_df[\"Hotel Name\"]!= '']\n",
    "clean_hotel_df.head(10)"
   ]
  },
  {
   "cell_type": "code",
   "execution_count": null,
   "metadata": {},
   "outputs": [],
   "source": [
    "# 9. Using the template add city name, the country code, the weather description and maximum temperature for the city.\n",
    "info_box_template = \"\"\"\n",
    "<dl>\n",
    "<dt>Hotel Name</dt><dd>{Hotel Name}</dd>\n",
    "<dt>City</dt><dd>{City}</dd>\n",
    "<dt>Country</dt><dd>{Country}</dd>\n",
    "<dt>Current Weather</dt><dd>{Current Description} and {Max Temp} °F</dd>\n",
    "</dl>\n",
    "\"\"\"\n",
    "\n",
    "# 10a. Get the data from each row and add it to the formatting template and store the data in a list.\n",
    "hotel_info = [info_box_template.format(**row) for index, row in clean_hotel_df.iterrows()]\n",
    "\n",
    "# 10b. Get the latitude and longitude from each row and store in a new DataFrame.\n",
    "locations = clean_hotel_df[[\"Lat\", \"Lng\"]]"
   ]
  },
  {
   "cell_type": "code",
   "execution_count": null,
   "metadata": {},
   "outputs": [],
   "source": [
    "# 8a. Create the output File (CSV)\n",
    "output_data_file = \"Vacation_Search/WeatherPy_vacation.csv\"\n",
    "# 8b. Export the City_Data into a csv\n",
    "clean_hotel_df.to_csv(output_data_file, index_label=\"City_ID\")"
   ]
  },
  {
   "cell_type": "code",
   "execution_count": null,
   "metadata": {},
   "outputs": [],
   "source": [
    "# 11a. Add a marker layer for each city to the map. \n",
    "marker_layer = gmaps.marker_layer(locations, info_box_content=hotel_info)\n",
    "fig = gmaps.figure()\n",
    "fig.add_layer(marker_layer)\n",
    "# 11b. Display the figure\n",
    "fig\n"
   ]
  },
  {
   "cell_type": "code",
   "execution_count": null,
   "metadata": {},
   "outputs": [],
   "source": []
  },
  {
   "cell_type": "code",
   "execution_count": null,
   "metadata": {},
   "outputs": [],
   "source": []
  }
 ],
 "metadata": {
  "kernelspec": {
   "display_name": "PythonData",
   "language": "python",
   "name": "pythondata"
  },
  "language_info": {
   "codemirror_mode": {
    "name": "ipython",
    "version": 3
   },
   "file_extension": ".py",
   "mimetype": "text/x-python",
   "name": "python",
   "nbconvert_exporter": "python",
   "pygments_lexer": "ipython3",
   "version": "3.8.5"
  },
  "latex_envs": {
   "LaTeX_envs_menu_present": true,
   "autoclose": false,
   "autocomplete": true,
   "bibliofile": "biblio.bib",
   "cite_by": "apalike",
   "current_citInitial": 1,
   "eqLabelWithNumbers": true,
   "eqNumInitial": 1,
   "hotkeys": {
    "equation": "Ctrl-E",
    "itemize": "Ctrl-I"
   },
   "labels_anchors": false,
   "latex_user_defs": false,
   "report_style_numbering": false,
   "user_envs_cfg": false
  }
 },
 "nbformat": 4,
 "nbformat_minor": 2
}
